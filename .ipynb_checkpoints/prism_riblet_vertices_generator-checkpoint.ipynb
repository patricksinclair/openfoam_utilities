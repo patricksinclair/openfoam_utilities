{
 "cells": [
  {
   "cell_type": "code",
   "execution_count": 2,
   "metadata": {},
   "outputs": [
    {
     "data": {
      "text/html": [
       "<style>.container { width:98% !important; }</style>"
      ],
      "text/plain": [
       "<IPython.core.display.HTML object>"
      ]
     },
     "metadata": {},
     "output_type": "display_data"
    }
   ],
   "source": [
    "from IPython.core.display import display, HTML\n",
    "display(HTML(\"<style>.container { width:98% !important; }</style>\"))"
   ]
  },
  {
   "cell_type": "code",
   "execution_count": 4,
   "metadata": {},
   "outputs": [],
   "source": [
    "import math\n",
    "import numpy as np"
   ]
  },
  {
   "cell_type": "code",
   "execution_count": 9,
   "metadata": {},
   "outputs": [],
   "source": [
    "def generateRiblets(d, h, theta, l):\n",
    "    '''generates the vertices for a single riblet.  returns a list of 3D cartesian coords.\n",
    "    d: riblet spacing\n",
    "    h: riblet height\n",
    "    theta: sharpness of riblet\n",
    "    l: height of the system (distance to the lid driving the flow)'''\n",
    "    b = h*math.tan(math.radians(theta/2)) #half of the base of the riblet traingle\n",
    "    z = 0.1 #the length of the system in the z-direction.  Currently just used to make a dummy dimension for OpenFOAM's 2D quirks\n",
    "    \n",
    "    vertices = [None]*14 #list to hold all the vertices\n",
    "    vertices[0] = np.array([0, 0, 0])\n",
    "    vertices[1] = np.array([d, 0, 0])\n",
    "    vertices[2] = np.array([(d + 2.*b), 0, 0])\n",
    "    vertices[3] = np.array([2.*(d+b), 0, 0])\n",
    "    vertices[4] = np.array([0, h, 0])\n",
    "    vertices[5] = np.array([d, h, 0])\n",
    "    vertices[6] = np.array([(d+b), h, 0])\n",
    "    vertices[7] = np.array([(d + 2.*b), h, 0])\n",
    "    vertices[8] = np.array([2.*(d+b), h, 0])\n",
    "    vertices[9] = np.array([0, h+l, 0])\n",
    "    vertices[10] = np.array([d, h+l, 0])\n",
    "    vertices[11] = np.array([(d+b), h+l, 0])\n",
    "    vertices[12] = np.array([(d + 2.*b), h+l, 0])\n",
    "    vertices[13] = np.array([2.*(d+b), h+l, 0])\n",
    "    \n",
    "    #vertices_other = vertices.copy() #duplicate of the vertices, but we add 0.1 to the z component as OpenFOAM requires 3D always\n",
    "    vertices_other = [v + np.array([0., 0., 0.1]) for v in vertices]\n",
    "    \n",
    "    vertices.extend(vertices_other)\n",
    "    \n",
    "    return vertices"
   ]
  },
  {
   "cell_type": "code",
   "execution_count": 29,
   "metadata": {},
   "outputs": [
    {
     "name": "stdout",
     "output_type": "stream",
     "text": [
      "(0.000  0.000  0.000)\n",
      "(2.000  0.000  0.000)\n",
      "(4.485  0.000  0.000)\n",
      "(6.485  0.000  0.000)\n",
      "(0.000  3.000  0.000)\n",
      "(2.000  3.000  0.000)\n",
      "(3.243  3.000  0.000)\n",
      "(4.485  3.000  0.000)\n",
      "(6.485  3.000  0.000)\n",
      "(0.000  14.000  0.000)\n",
      "(2.000  14.000  0.000)\n",
      "(3.243  14.000  0.000)\n",
      "(4.485  14.000  0.000)\n",
      "(6.485  14.000  0.000)\n",
      "(0.000  0.000  0.100)\n",
      "(2.000  0.000  0.100)\n",
      "(4.485  0.000  0.100)\n",
      "(6.485  0.000  0.100)\n",
      "(0.000  3.000  0.100)\n",
      "(2.000  3.000  0.100)\n",
      "(3.243  3.000  0.100)\n",
      "(4.485  3.000  0.100)\n",
      "(6.485  3.000  0.100)\n",
      "(0.000  14.000  0.100)\n",
      "(2.000  14.000  0.100)\n",
      "(3.243  14.000  0.100)\n",
      "(4.485  14.000  0.100)\n",
      "(6.485  14.000  0.100)\n"
     ]
    }
   ],
   "source": [
    "v = generateRiblets(2, 3, 45, 11)\n",
    "for elem in v:\n",
    "    #print(\"(\"+str(elem[0])+\"\\t\"+str(elem[1])+\"\\t\"+str(elem[2])+\")\")\n",
    "    print(\"({0:5.3f}  {1:5.3f}  {2:5.3f})\".format(elem[0], elem[1], elem[2]))"
   ]
  },
  {
   "cell_type": "code",
   "execution_count": null,
   "metadata": {},
   "outputs": [],
   "source": []
  }
 ],
 "metadata": {
  "kernelspec": {
   "display_name": "Python 3",
   "language": "python",
   "name": "python3"
  },
  "language_info": {
   "codemirror_mode": {
    "name": "ipython",
    "version": 3
   },
   "file_extension": ".py",
   "mimetype": "text/x-python",
   "name": "python",
   "nbconvert_exporter": "python",
   "pygments_lexer": "ipython3",
   "version": "3.7.4"
  }
 },
 "nbformat": 4,
 "nbformat_minor": 2
}

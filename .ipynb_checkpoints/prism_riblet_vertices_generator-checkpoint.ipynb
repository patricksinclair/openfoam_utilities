{
 "cells": [
  {
   "cell_type": "code",
   "execution_count": 1,
   "metadata": {},
   "outputs": [
    {
     "data": {
      "text/html": [
       "<style>.container { width:98% !important; }</style>"
      ],
      "text/plain": [
       "<IPython.core.display.HTML object>"
      ]
     },
     "metadata": {},
     "output_type": "display_data"
    }
   ],
   "source": [
    "from IPython.core.display import display, HTML\n",
    "display(HTML(\"<style>.container { width:98% !important; }</style>\"))"
   ]
  },
  {
   "cell_type": "code",
   "execution_count": 2,
   "metadata": {},
   "outputs": [],
   "source": [
    "import math\n",
    "import numpy as np\n",
    "import matplotlib.pyplot as plt"
   ]
  },
  {
   "cell_type": "code",
   "execution_count": 3,
   "metadata": {},
   "outputs": [],
   "source": [
    "def generateRiblets(d, h, theta, l, d_frac):\n",
    "    '''generates the vertices for a single riblet.  returns a list of 3D cartesian coords.\n",
    "    d: riblet spacing\n",
    "    h: riblet height\n",
    "    theta: sharpness of riblet\n",
    "    l: height of the system (distance to the lid driving the flow)\n",
    "    d_frac: #the fraction of the separation used as the base for the trapezoid forming a side of the prism riblet'''\n",
    "    w = h*math.tan(math.radians(theta/2)) #half of the base of the riblet triangle\n",
    "    z = 0.1 #the length of the system in the z-direction.  Currently just used to make a dummy dimension for OpenFOAM's 2D quirks\n",
    "    \n",
    "    vertices = [None]*6 #list to hold all the vertices\n",
    "    vertices[0] = (0, 0, 0) #origin\n",
    "    vertices[1] = ((1.-d_frac)*d, 0, 0) #RHS edge of first cuboid\n",
    "    vertices[2] = (d, 0, 0) #base of riblet LHS\n",
    "    vertices[3] = (d+2.*w, 0, 0) #base of riblet RHS\n",
    "    vertices[4] = ((1.+d_frac)*d + 2.*w, 0, 0) #LHS of edge cuboid\n",
    "    vertices[5] = (2.*(d+w), 0, 0) #RHS of system base\n",
    "    \n",
    "    vertices = [np.array(v) for v in vertices]\n",
    "    \n",
    "    vertices_h = [None]*5 #the next row of vertices at the height of the riblet peak\n",
    "    vertices_h[0] = (0, h, 0)\n",
    "    vertices_h[1] = ((1.-d_frac)*d, h, 0)\n",
    "    vertices_h[2] = (d+w, h, 0)\n",
    "    vertices_h[3] = ((1.+d_frac)*d + 2.*w, h, 0)\n",
    "    vertices_h[4] = (2.*(d+w), h, 0)\n",
    "    \n",
    "    vertices_h = [np.array(v) for v in vertices_h]\n",
    "    vertices_l = [v + np.array([0, (l-h), 0]) for v in vertices_h] #the top row of vertices at the top edge of the system\n",
    "    \n",
    "    vertices.extend(vertices_h)\n",
    "    vertices.extend(vertices_l)\n",
    "    \n",
    "#     for v in vertices:\n",
    "#         plt.scatter(v[0], v[1])\n",
    "#     plt.show()\n",
    "    \n",
    "    #vertices_other = vertices.copy() #duplicate of the vertices, but we add 0.1 to the z component as OpenFOAM requires 3D always\n",
    "    vertices_other = [v + np.array([0., 0., z]) for v in vertices]\n",
    "    \n",
    "    vertices.extend(vertices_other)\n",
    "    \n",
    "    return vertices"
   ]
  },
  {
   "cell_type": "code",
   "execution_count": 39,
   "metadata": {},
   "outputs": [],
   "source": [
    "def generateNRiblets(N, d, h, theta, l, d_frac):\n",
    "    '''generates the vertices for a single riblet.  returns a list of 3D cartesian coords.\n",
    "    d: riblet spacing\n",
    "    h: riblet height\n",
    "    theta: sharpness of riblet\n",
    "    l: height of the system (distance to the lid driving the flow)'''\n",
    "    w = h*math.tan(math.radians(theta/2)) #half of the base of the riblet triangle\n",
    "    z = 0.1 #the length of the system in the z-direction.  Currently just used to make a dummy dimension for OpenFOAM's 2D quirks\n",
    "    d_frac = 0.4 #the fraction of the separation used as the base for the trapezoid forming a side of the prism riblet\n",
    "    \n",
    "    initial_vertices = generateRiblets(d, h, theta, l, d_frac)\n",
    "    all_vertices = initial_vertices.copy()\n",
    "    system_size = initial_vertices[-1][0] #the total length of the system\n",
    "    #print(system_size)\n",
    "    for i in range(N-1):\n",
    "        vertices_N = [v + np.array([system_size*(i+1), 0, 0]) for v in initial_vertices]\n",
    "        all_vertices.extend(vertices_N)\n",
    "        \n",
    "    print(len(all_vertices))\n",
    "    \n",
    "        \n",
    "    filtered_vertices = {array.tostring(): array for array in all_vertices}.values() #remove duplicate vertices\n",
    "    print(len(filtered_vertices))\n",
    "\n",
    "    for v in filtered_vertices:\n",
    "        plt.scatter(v[0], v[1])\n",
    "    plt.show()\n",
    "    \n",
    "    for i, elem in enumerate(filtered_vertices):\n",
    "    #print(\"(\"+str(elem[0])+\"\\t\"+str(elem[1])+\"\\t\"+str(elem[2])+\")\")\n",
    "        print(\"\\t({0:5.3f}  {1:5.3f}  {2:5.3f})\".format(elem[0], elem[1], elem[2]) + \"\\t //vertex \"+str(i))\n",
    "    "
   ]
  },
  {
   "cell_type": "code",
   "execution_count": 6,
   "metadata": {
    "scrolled": true
   },
   "outputs": [],
   "source": [
    "#vN = generateNRiblets(N=3, d=2., h=3., theta=45., l=10., d_frac=0.4)"
   ]
  },
  {
   "cell_type": "code",
   "execution_count": 5,
   "metadata": {
    "scrolled": false
   },
   "outputs": [],
   "source": [
    "def generateNRiblets_v2def(N, d, h, theta, l, d_frac):\n",
    "    '''generates the vertices for multiple riblets.  returns a list of 3D cartesian coords.\n",
    "    this version returns all the vertices on the bottom row, followed by the middle row, then the top row.\n",
    "    then repeats for the other vertices in the z-direction.\n",
    "    d: riblet spacing\n",
    "    h: riblet height\n",
    "    theta: sharpness of riblet\n",
    "    l: height of the system (distance to the lid driving the flow)'''\n",
    "    w = h*math.tan(math.radians(theta/2)) #half of the base of the riblet triangle\n",
    "    z = 0.1 #the length of the system in the z-direction.  Currently just used to make a dummy dimension for OpenFOAM's 2D quirks\n",
    "    d_frac = 0.4 #the fraction of the separation used as the base for the trapezoid forming a side of the prism riblet\n",
    "    riblet_length = 2.*(d+w) #the total length of the riblet in the x-direction\n",
    "    \n",
    "    n_bottom = 6 #no. of vertices in the bottom row of a single riblet\n",
    "    n_middle = 5 #no. of vertices in the middle row of a single riblet\n",
    "    n_top = 5 #no. of vertices in top row of a single riblet\n",
    "    \n",
    "    bottom_vertices = [None]*(n_bottom*N - (N-1)) #nb\n",
    "    middle_vertices = [None]*(n_middle*N - (N-1)) #nm\n",
    "    #top_vertices = [None]*(n_top*N - (N-1)) #nt = nm\n",
    "    \n",
    "    #fill up the vertices repeating, then remove duplicates\n",
    "    for i in range(N):\n",
    "        #bottom vertices\n",
    "        bottom_vertices[0+i*n_bottom] = (0 + i*riblet_length, 0, 0) #origin\n",
    "        bottom_vertices[1+i*n_bottom] = ((1.-d_frac)*d + i*riblet_length, 0, 0) #RHS edge of first cuboid\n",
    "        bottom_vertices[2+i*n_bottom] = (d + i*riblet_length, 0, 0) #base of riblet LHS\n",
    "        bottom_vertices[3+i*n_bottom] = (d+2.*w + i*riblet_length, 0, 0) #base of riblet RHS\n",
    "        bottom_vertices[4+i*n_bottom] = ((1.+d_frac)*d + 2.*w + i*riblet_length, 0, 0) #LHS of edge cuboid\n",
    "        bottom_vertices[5+i*n_bottom] = (2.*(d+w) + i*riblet_length, 0, 0) #RHS of system base\n",
    "        \n",
    "        #middle vertices\n",
    "        middle_vertices[0+i*n_middle] = (0 + i*riblet_length, h, 0)\n",
    "        middle_vertices[1+i*n_middle] = ((1.-d_frac)*d + i*riblet_length, h, 0)\n",
    "        middle_vertices[2+i*n_middle] = (d+w + i*riblet_length, h, 0)\n",
    "        middle_vertices[3+i*n_middle] = ((1.+d_frac)*d + 2.*w + i*riblet_length, h, 0)\n",
    "        middle_vertices[4+i*n_middle] = (2.*(d+w) + i*riblet_length, h, 0) \n",
    "        \n",
    "        \n",
    "    bottom_vertices = [np.array(v) for v in bottom_vertices]    \n",
    "    middle_vertices = [np.array(v) for v in middle_vertices]\n",
    "    top_vertices = [v + np.array([0, (l-h), 0]) for v in middle_vertices] #the top row of vertices at the top edge of the system\n",
    "    \n",
    "    all_vertices = bottom_vertices.extend(middle_vertices)\n",
    "    all_vertices.extend(top_vertices)\n",
    "    \n",
    "    vertices_other = [v + np.array([0., 0., z]) for v in all_vertices] #add the other vertices in the z-direction\n",
    "    all_vertices.extend(vertices_other)\n",
    "    \n",
    "    print(len(all_vertices))\n",
    "    filtered_vertices = {array.tostring(): array for array in all_vertices}.values() #remove duplicate vertices\n",
    "    print(len(filtered_vertices))\n",
    "    \n",
    "    filtered_vertices = {array.tostring(): array for array in all_vertices}.values() #remove duplicate vertices\n",
    "    print(len(filtered_vertices))\n",
    "\n",
    "    for v in filtered_vertices:\n",
    "        plt.scatter(v[0], v[1])\n",
    "    plt.show()\n",
    "    \n",
    "    for i, elem in enumerate(filtered_vertices):\n",
    "    #print(\"(\"+str(elem[0])+\"\\t\"+str(elem[1])+\"\\t\"+str(elem[2])+\")\")\n",
    "        print(\"\\t({0:5.3f}  {1:5.3f}  {2:5.3f})\".format(elem[0], elem[1], elem[2]) + \"\\t //vertex \"+str(i))"
   ]
  },
  {
   "cell_type": "code",
   "execution_count": null,
   "metadata": {},
   "outputs": [],
   "source": []
  }
 ],
 "metadata": {
  "kernelspec": {
   "display_name": "Python 3",
   "language": "python",
   "name": "python3"
  },
  "language_info": {
   "codemirror_mode": {
    "name": "ipython",
    "version": 3
   },
   "file_extension": ".py",
   "mimetype": "text/x-python",
   "name": "python",
   "nbconvert_exporter": "python",
   "pygments_lexer": "ipython3",
   "version": "3.7.4"
  }
 },
 "nbformat": 4,
 "nbformat_minor": 2
}

{
 "cells": [
  {
   "cell_type": "code",
   "execution_count": 2,
   "metadata": {},
   "outputs": [
    {
     "data": {
      "text/html": [
       "<style>.container { width:98% !important; }</style>"
      ],
      "text/plain": [
       "<IPython.core.display.HTML object>"
      ]
     },
     "metadata": {},
     "output_type": "display_data"
    }
   ],
   "source": [
    "from IPython.core.display import display, HTML\n",
    "display(HTML(\"<style>.container { width:98% !important; }</style>\"))"
   ]
  },
  {
   "cell_type": "code",
   "execution_count": 3,
   "metadata": {},
   "outputs": [],
   "source": [
    "import math\n",
    "import numpy as np\n",
    "import matplotlib.pyplot as plt"
   ]
  },
  {
   "cell_type": "code",
   "execution_count": 17,
   "metadata": {},
   "outputs": [],
   "source": [
    "def generateRiblets(d, h, theta, l):\n",
    "    '''generates the vertices for a single riblet.  returns a list of 3D cartesian coords.\n",
    "    d: riblet spacing\n",
    "    h: riblet height\n",
    "    theta: sharpness of riblet\n",
    "    l: height of the system (distance to the lid driving the flow)'''\n",
    "    w = h*math.tan(math.radians(theta/2)) #half of the base of the riblet triangle\n",
    "    z = 0.1 #the length of the system in the z-direction.  Currently just used to make a dummy dimension for OpenFOAM's 2D quirks\n",
    "    d_frac = 0.4 #the fraction of the separation used as the base for the trapezoid forming a side of the prism riblet\n",
    "    \n",
    "    vertices = [None]*6 #list to hold all the vertices\n",
    "    vertices[0] = (0, 0, 0) #origin\n",
    "    vertices[1] = ((1.-d_frac)*d, 0, 0) #RHS edge of first cuboid\n",
    "    vertices[2] = (d, 0, 0) #base of riblet LHS\n",
    "    vertices[3] = (d+2.*w, 0, 0) #base of riblet RHS\n",
    "    vertices[4] = ((1.+d_frac)*d + 2.*w, 0, 0) #LHS of edge cuboid\n",
    "    vertices[5] = (2.*(d+w), 0, 0) #RHS of system base\n",
    "    \n",
    "    vertices = [np.array(v) for v in vertices]\n",
    "    \n",
    "    vertices_h = [None]*5 #the next row of vertices at the height of the riblet peak\n",
    "    vertices_h[0] = (0, h, 0)\n",
    "    vertices_h[1] = ((1.-d_frac)*d, h, 0)\n",
    "    vertices_h[2] = (d+w, h, 0)\n",
    "    vertices_h[3] = ((1.+d_frac)*d + 2.*w, h, 0)\n",
    "    vertices_h[4] = (2.*(d+w), h, 0)\n",
    "    \n",
    "    vertices_h = [np.array(v) for v in vertices_h]\n",
    "    vertices_l = [v + np.array([0, (l-h), 0]) for v in vertices_h] #the top row of vertices at the top edge of the system\n",
    "    \n",
    "    vertices.extend(vertices_h)\n",
    "    vertices.extend(vertices_l)\n",
    "    \n",
    "    for v in vertices:\n",
    "        plt.scatter(v[0], v[1])\n",
    "    plt.show()\n",
    "    \n",
    "    #vertices_other = vertices.copy() #duplicate of the vertices, but we add 0.1 to the z component as OpenFOAM requires 3D always\n",
    "    vertices_other = [v + np.array([0., 0., z]) for v in vertices]\n",
    "    \n",
    "    vertices.extend(vertices_other)\n",
    "    \n",
    "    return vertices"
   ]
  },
  {
   "cell_type": "code",
   "execution_count": 23,
   "metadata": {},
   "outputs": [
    {
     "data": {
      "image/png": "[encoded data removed]",
      "text/plain": [
       "<Figure size 432x288 with 1 Axes>"
      ]
     },
     "metadata": {
      "needs_background": "light"
     },
     "output_type": "display_data"
    },
    {
     "name": "stdout",
     "output_type": "stream",
     "text": [
      "\t(0.000  0.000  0.000)\n",
      "\t(1.200  0.000  0.000)\n",
      "\t(2.000  0.000  0.000)\n",
      "\t(4.485  0.000  0.000)\n",
      "\t(5.285  0.000  0.000)\n",
      "\t(6.485  0.000  0.000)\n",
      "\t(0.000  3.000  0.000)\n",
      "\t(1.200  3.000  0.000)\n",
      "\t(3.243  3.000  0.000)\n",
      "\t(5.285  3.000  0.000)\n",
      "\t(6.485  3.000  0.000)\n",
      "\t(0.000  10.000  0.000)\n",
      "\t(1.200  10.000  0.000)\n",
      "\t(3.243  10.000  0.000)\n",
      "\t(5.285  10.000  0.000)\n",
      "\t(6.485  10.000  0.000)\n",
      "\t(0.000  0.000  0.100)\n",
      "\t(1.200  0.000  0.100)\n",
      "\t(2.000  0.000  0.100)\n",
      "\t(4.485  0.000  0.100)\n",
      "\t(5.285  0.000  0.100)\n",
      "\t(6.485  0.000  0.100)\n",
      "\t(0.000  3.000  0.100)\n",
      "\t(1.200  3.000  0.100)\n",
      "\t(3.243  3.000  0.100)\n",
      "\t(5.285  3.000  0.100)\n",
      "\t(6.485  3.000  0.100)\n",
      "\t(0.000  10.000  0.100)\n",
      "\t(1.200  10.000  0.100)\n",
      "\t(3.243  10.000  0.100)\n",
      "\t(5.285  10.000  0.100)\n",
      "\t(6.485  10.000  0.100)\n"
     ]
    }
   ],
   "source": [
    "v = generateRiblets(2., 3., 45., 10.)\n",
    "for i, elem in enumerate(v):\n",
    "    #print(\"(\"+str(elem[0])+\"\\t\"+str(elem[1])+\"\\t\"+str(elem[2])+\")\")\n",
    "    print(\"\\t({0:5.3f}  {1:5.3f}  {2:5.3f})\".format(elem[0], elem[1], elem[2]))"
   ]
  },
  {
   "cell_type": "code",
   "execution_count": null,
   "metadata": {},
   "outputs": [],
   "source": []
  }
 ],
 "metadata": {
  "kernelspec": {
   "display_name": "Python 3",
   "language": "python",
   "name": "python3"
  },
  "language_info": {
   "codemirror_mode": {
    "name": "ipython",
    "version": 3
   },
   "file_extension": ".py",
   "mimetype": "text/x-python",
   "name": "python",
   "nbconvert_exporter": "python",
   "pygments_lexer": "ipython3",
   "version": "3.7.4"
  }
 },
 "nbformat": 4,
 "nbformat_minor": 2
}

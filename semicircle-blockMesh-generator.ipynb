{
 "cells": [
  {
   "cell_type": "code",
   "execution_count": 1,
   "metadata": {},
   "outputs": [
    {
     "data": {
      "text/html": [
       "<style>.container { width:98% !important; }</style>"
      ],
      "text/plain": [
       "<IPython.core.display.HTML object>"
      ]
     },
     "metadata": {},
     "output_type": "display_data"
    }
   ],
   "source": [
    "from IPython.core.display import display, HTML\n",
    "display(HTML(\"<style>.container { width:98% !important; }</style>\"))"
   ]
  },
  {
   "cell_type": "code",
   "execution_count": 2,
   "metadata": {},
   "outputs": [],
   "source": [
    "import math\n",
    "import numpy as np\n",
    "import matplotlib.pyplot as plt"
   ]
  },
  {
   "cell_type": "code",
   "execution_count": 6,
   "metadata": {},
   "outputs": [],
   "source": [
    "def generateVertices(N, r, z, W, H):\n",
    "    '''method to generate the vertices for a set of semicircular riblets\n",
    "    \n",
    "    N: no. of riblets\n",
    "    r: semicircle radius\n",
    "    z: length of system in 3D z direction\n",
    "    W: riblet subsystem padding width (this is fixed, so need to make sure it's bigger than the semicicle outer block sizes)\n",
    "    H: system height'''\n",
    "    \n",
    "    R = 2.5*r\n",
    "    W = 4*R\n",
    "    \n",
    "    n_bottom = 9 #no. of vertices in the bottom row of the riblet system\n",
    "    n_middle = 5\n",
    "    n_top = 5\n",
    "    \n",
    "    vertices_bottom = [None]*(n_bottom*N)\n",
    "    vertices_middle = [None]*(n_middle*N)\n",
    "    vertices_top = [None]*(n_top*N)\n",
    "    \n",
    "    for i in range(N):\n",
    "        \n",
    "        #bottom vertices\n",
    "        vertices_bottom[0+i*n_bottom] = (-W, 0, 0) #LHS\n",
    "        vertices_bottom[1+i*n_bottom] = (R*np.cos(np.pi), 0, 0) #base of riblet LHS\n",
    "        vertices_bottom[2+i*n_bottom] = (r*np.cos(np.pi), 0, 0) \n",
    "        vertices_bottom[3+i*n_bottom] = (r*np.cos(3*np.pi/4), r*np.sin(3*np.pi/4), 0) \n",
    "        vertices_bottom[4+i*n_bottom] = (r*np.cos(np.pi/2), r*np.sin(np.pi/2), 0) #peak of riblet\n",
    "        vertices_bottom[5+i*n_bottom] = (r*np.cos(np.pi/4), r*np.sin(np.pi/4), 0) \n",
    "        vertices_bottom[6+i*n_bottom] = (r*np.cos(0), 0, 0) #base of riblet RHS\n",
    "        vertices_bottom[7+i*n_bottom] = (R*np.cos(0), 0, 0) \n",
    "        vertices_bottom[8+i*n_bottom] = (W, 0, 0) #RHS\n",
    "        \n",
    "        vertices_middle[0+i*n_middle] = (-W, R*np.sin(3*np.pi/4), 0)\n",
    "        vertices_middle[1+i*n_middle] = (R*np.cos(3*np.pi/4), R*np.sin(3*np.pi/4), 0)\n",
    "        vertices_middle[2+i*n_middle] = (R*np.cos(np.pi/2), R*np.sin(np.pi/2), 0)\n",
    "        vertices_middle[3+i*n_middle] = (R*np.cos(np.pi/4), R*np.sin(np.pi/4), 0)\n",
    "        vertices_middle[4+i*n_middle] = (W, R*np.sin(np.pi/4), 0) \n",
    "        \n",
    "        vertices_top[0+i*n_middle] = (-W, H, 0)\n",
    "        vertices_top[1+i*n_middle] = (R*np.cos(3*np.pi/4), H, 0)\n",
    "        vertices_top[2+i*n_middle] = (R*np.cos(np.pi/2), H, 0)\n",
    "        vertices_top[3+i*n_middle] = (R*np.cos(np.pi/4), H, 0)\n",
    "        vertices_top[4+i*n_middle] = (W, H, 0)\n",
    "        \n",
    "    vertices_bottom = [np.array(v) for v in vertices_bottom if v]    \n",
    "    vertices_middle = [np.array(v) for v in vertices_middle if v]\n",
    "    vertices_top = [np.array(v) for v in vertices_top if v]\n",
    "        \n",
    "    all_vertices = vertices_bottom\n",
    "    all_vertices.extend(vertices_middle)\n",
    "    all_vertices.extend(vertices_top)\n",
    "    \n",
    "    vertices_other = [v + np.array([0., 0., z]) for v in all_vertices] #add the other vertices in the z-direction\n",
    "    all_vertices.extend(vertices_other)\n",
    "    \n",
    "    all_vertices_LoL = [list(a) for a in all_vertices] #creates list of lists\n",
    "    all_vertices_LoLs = [['{:.5f}'.format(x) for x  in sublist] for sublist in all_vertices_LoL] #converts the sublists into strings    \n",
    "    filtered_vertices = []\n",
    "    for sublist in all_vertices_LoLs:\n",
    "        if sublist not in filtered_vertices:\n",
    "            filtered_vertices.append(sublist)\n",
    "            \n",
    "    filtered_vertices = [[float(x) for x in sublist] for sublist in filtered_vertices] #converts back to floats due to legacy formatting\n",
    "    \n",
    "    for i, elem in enumerate(filtered_vertices):\n",
    "        print(\"\\t({0:5.3f}  {1:5.3f}  {2:5.3f})\".format(elem[0], elem[1], elem[2]) + \"\\t //vertex \"+str(i))\n"
   ]
  },
  {
   "cell_type": "code",
   "execution_count": 8,
   "metadata": {},
   "outputs": [],
   "source": [
    "#generateVertices(1, 1, 0.1, 5, 99)"
   ]
  },
  {
   "cell_type": "code",
   "execution_count": null,
   "metadata": {},
   "outputs": [],
   "source": [
    "def generateHexBlocks(N):\n",
    "    \n",
    "    '''method to generate hex blocks for N prism riblets for use in openfoam.\n",
    "    this version has not yet been updated to include the inlet/outlet blocks\n",
    "    N = no. of riblets'''\n",
    "    \n",
    "    #the strings below are used to have their values read in from a file in the blockMeshDict folder\n",
    "    ribletX_nC = '$ribletX_nC' #the no. of x-cells in the blocks on/above the riblets\n",
    "    plateauX_nC = '$plateauX_nC' #the no. of x-cells in the blocks on/above the space between riblets\n",
    "    surfaceY_nC = '$surfaceY_nC' #the no. of y-cells in the blocks on the surface\n",
    "    fluidY_nC = '$fluidY_nC' #the no. of y-cells in the blocks in the surrounding fluid \n",
    "    \n",
    "    LBlockX_nC = '$LBlockX_nC' #the no. of x-cells in the LHS inlet block\n",
    "    RBlockX_nC = '$RBlockX_nC' #the no. of x-cells in the RHS outlet block\n",
    "    \n",
    "    nCells_z = '1' #only one cell in z-direction\n",
    "    \n",
    "    n_blocks = 10 #this is the number of blocks in each riblet subsystem.  Just used for keeping track of the indexing\n",
    "    nb = 9N-(N-1) #no. of vertices on bottom row. nb-1 for the index of the last bottom vertex. nb is the index of the first mid vertex \n",
    "    nm = nb + (4*N + 1)\n",
    "    nt = nm + (4*N + 1)"
   ]
  }
 ],
 "metadata": {
  "kernelspec": {
   "display_name": "Python 3",
   "language": "python",
   "name": "python3"
  },
  "language_info": {
   "codemirror_mode": {
    "name": "ipython",
    "version": 3
   },
   "file_extension": ".py",
   "mimetype": "text/x-python",
   "name": "python",
   "nbconvert_exporter": "python",
   "pygments_lexer": "ipython3",
   "version": "3.7.6"
  }
 },
 "nbformat": 4,
 "nbformat_minor": 4
}

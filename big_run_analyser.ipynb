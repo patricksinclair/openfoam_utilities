{
 "cells": [
  {
   "cell_type": "markdown",
   "metadata": {},
   "source": [
    "### This notebook is used to process the big riblet runs, consolidate all the data/graphs into one notebook"
   ]
  },
  {
   "cell_type": "code",
   "execution_count": 1,
   "metadata": {},
   "outputs": [],
   "source": [
    "import pandas as pd\n",
    "import matplotlib.pyplot as plt\n",
    "import random\n",
    "import numpy as np\n",
    "import string"
   ]
  },
  {
   "cell_type": "code",
   "execution_count": 2,
   "metadata": {},
   "outputs": [],
   "source": [
    "def collate_all_dataframes(results_directory, delta_t, t_max):\n",
    "    '''\n",
    "    for the alpha over time data, need to collate all the individual dataframes into one master one\n",
    "    '''\n",
    "    \n",
    "    t_vals = np.arange(delta_t, t_max+delta_t, delta_t)\n",
    "    dataframe_list = [] #empty list to store dataframes\n",
    "    #print(t_vals.size)\n",
    "    for i in range(t_vals.size):\n",
    "        t_string = \"{:.1f}\".format(t_vals[i])\n",
    "        \n",
    "        df = pd.read_csv(results_directory+\"alpha_data-t=\"+t_string+\".csv\")\n",
    "        df['t'] = t_vals[i]\n",
    "        dataframe_list.append(df)\n",
    "        \n",
    "    master_dataframe = pd.concat(dataframe_list ,ignore_index=True) #collate all the individual dataframes together\n",
    "    master_dataframe['alpha_normalised'] = master_dataframe['alpha.biofilm']/np.amax(master_dataframe['alpha.biofilm'])\n",
    "    #master_dataframe['sd'] = 2\n",
    "    return master_dataframe"
   ]
  },
  {
   "cell_type": "code",
   "execution_count": 3,
   "metadata": {},
   "outputs": [],
   "source": [
    "delta_t = 0.2 #timestep of sampled data\n",
    "t_max = 20."
   ]
  },
  {
   "cell_type": "code",
   "execution_count": 4,
   "metadata": {},
   "outputs": [],
   "source": [
    "parallelFlow_14microns_drag = pd.read_csv(\"riblet_data/integral_results_parallel_14microns/drag_over_time.csv\").rename(columns=lambda x: x.strip())\n",
    "parallelFlow_28microns_drag = pd.read_csv(\"riblet_data/integral_results_parallel_28microns/drag_over_time.csv\").rename(columns=lambda x: x.strip())\n",
    "parallelFlow_50microns_drag = pd.read_csv(\"riblet_data/integral_results_parallel_50microns/drag_over_time.csv\").rename(columns=lambda x: x.strip())\n",
    "\n",
    "angle45Flow_14microns_drag = pd.read_csv(\"riblet_data/integral_results_45deg_14microns/drag_over_time.csv\").rename(columns=lambda x: x.strip())\n",
    "angle45Flow_28microns_drag = pd.read_csv(\"riblet_data/integral_results_45deg_28microns/drag_over_time.csv\").rename(columns=lambda x: x.strip())\n",
    "angle45Flow_50microns_drag = pd.read_csv(\"riblet_data/integral_results_45deg_50microns/drag_over_time.csv\").rename(columns=lambda x: x.strip())\n",
    "#use the magnitude of the total force to work out the drag\n",
    "angle45Flow_14microns_drag['F_total'] = np.sqrt(angle45Flow_14microns_drag['F_x']**2 + angle45Flow_14microns_drag['F_z']**2)\n",
    "angle45Flow_28microns_drag['F_total'] = np.sqrt(angle45Flow_28microns_drag['F_x']**2 + angle45Flow_28microns_drag['F_z']**2)\n",
    "angle45Flow_50microns_drag['F_total'] = np.sqrt(angle45Flow_50microns_drag['F_x']**2 + angle45Flow_50microns_drag['F_z']**2)\n",
    "\n",
    "perpendicularFlow_14microns_drag = pd.read_csv(\"riblet_data/integral_results_perpendicular_14microns/drag_over_time.csv\").rename(columns=lambda x: x.strip())\n",
    "perpendicularFlow_28microns_drag = pd.read_csv(\"riblet_data/integral_results_perpendicular_28microns/drag_over_time.csv\").rename(columns=lambda x: x.strip())\n",
    "perpendicularFlow_50microns_drag = pd.read_csv(\"riblet_data/integral_results_perpendicular_50microns/drag_over_time.csv\").rename(columns=lambda x: x.strip())\n",
    "\n",
    "#these are the perpendicular flow simulations which were run for an additional 10 seconds\n",
    "#the first 20 seconds of these are identical to the old ones, so we can delete the non-EXTRA data.\n",
    "#(we can keep the processed data in the riblet_data directory, but delete the big openfoam case directories in PhD/openfoam_results)\n",
    "perpendicularFlow_14microns_drag_EXTRA = pd.read_csv(\"riblet_data/integral_results_perpendicular_14microns_EXTRA/drag_over_time.csv\").rename(columns=lambda x: x.strip())\n",
    "perpendicularFlow_28microns_drag_EXTRA = pd.read_csv(\"riblet_data/integral_results_perpendicular_28microns_EXTRA/drag_over_time.csv\").rename(columns=lambda x: x.strip())\n",
    "perpendicularFlow_50microns_drag_EXTRA = pd.read_csv(\"riblet_data/integral_results_perpendicular_50microns_EXTRA/drag_over_time.csv\").rename(columns=lambda x: x.strip())"
   ]
  },
  {
   "cell_type": "code",
   "execution_count": 5,
   "metadata": {},
   "outputs": [],
   "source": [
    "bf_thickness_labels = [\"14 $\\mu$m\", \"28 $\\mu$m\", \"50 $\\mu$m\"]\n",
    "drag_angle_labels = [\"$0^\\degree$\", \"$45^\\degree$\", \"$90^\\degree$\"]\n",
    "parallelDrag_key = \"F_z\"\n",
    "angle45Drag_key = \"F_total\"\n",
    "perpendicularDrag_key = \"F_x\""
   ]
  },
  {
   "cell_type": "code",
   "execution_count": 6,
   "metadata": {},
   "outputs": [],
   "source": [
    "#plt.plot(perpendicularFlow_14microns_drag['t'], perpendicularFlow_14microns_drag[\"F_x\"])\n",
    "#plt.plot(perpendicularFlow_14microns_drag_EXTRA['t'], perpendicularFlow_14microns_drag_EXTRA[\"F_x\"])\n",
    "#plt.show()\n",
    "# print(perpendicularFlow_14microns_drag[\"F_x\"])\n",
    "# print(perpendicularFlow_14microns_drag_EXTRA[\"F_x\"])"
   ]
  },
  {
   "cell_type": "code",
   "execution_count": 7,
   "metadata": {},
   "outputs": [],
   "source": [
    "# plt.plot(perpendicularFlow_28microns_drag['t'], perpendicularFlow_28microns_drag[\"F_x\"])\n",
    "# plt.plot(perpendicularFlow_28microns_drag_EXTRA['t'], perpendicularFlow_28microns_drag_EXTRA[\"F_x\"]+0.5e-7)\n",
    "# plt.show()\n",
    "# print(perpendicularFlow_28microns_drag[\"F_x\"])\n",
    "# print(perpendicularFlow_28microns_drag_EXTRA[\"F_x\"])"
   ]
  },
  {
   "cell_type": "code",
   "execution_count": 8,
   "metadata": {},
   "outputs": [
    {
     "data": {
      "image/png": "[encoded data removed]",
      "text/plain": [
       "<Figure size 432x288 with 1 Axes>"
      ]
     },
     "metadata": {
      "needs_background": "light"
     },
     "output_type": "display_data"
    },
    {
     "name": "stdout",
     "output_type": "stream",
     "text": [
      "0     1.404800e-07\n",
      "1     1.752220e-07\n",
      "2     1.185480e-07\n",
      "3     3.266140e-07\n",
      "4     3.606610e-07\n",
      "          ...     \n",
      "95    6.433060e-07\n",
      "96    6.431540e-07\n",
      "97    6.429800e-07\n",
      "98    6.426140e-07\n",
      "99    6.424820e-07\n",
      "Name: F_x, Length: 100, dtype: float64\n",
      "0      1.404800e-07\n",
      "1      1.752220e-07\n",
      "2      1.185480e-07\n",
      "3      3.266140e-07\n",
      "4      3.606610e-07\n",
      "           ...     \n",
      "145    6.391890e-07\n",
      "146    6.392100e-07\n",
      "147    6.390380e-07\n",
      "148    6.387230e-07\n",
      "149    6.386410e-07\n",
      "Name: F_x, Length: 150, dtype: float64\n"
     ]
    }
   ],
   "source": [
    "plt.plot(perpendicularFlow_50microns_drag_EXTRA['t'], perpendicularFlow_50microns_drag_EXTRA[\"F_x\"])\n",
    "plt.plot(perpendicularFlow_50microns_drag_EXTRA['t'], perpendicularFlow_50microns_drag_EXTRA[\"F_x\"]+0.5e-7)\n",
    "plt.show()\n",
    "print(perpendicularFlow_50microns_drag[\"F_x\"])\n",
    "print(perpendicularFlow_50microns_drag_EXTRA[\"F_x\"])"
   ]
  },
  {
   "cell_type": "code",
   "execution_count": 9,
   "metadata": {},
   "outputs": [],
   "source": [
    "#group the drag dataframes together by flow direction\n",
    "#each entry is a tuple containing the dataframe and the key needed for the relevant drag entry\n",
    "dragDataframes_parallelFlow = [(parallelFlow_14microns_drag, parallelDrag_key), (parallelFlow_28microns_drag, parallelDrag_key), (parallelFlow_50microns_drag, parallelDrag_key)]\n",
    "dragDataframes_angle45Flow = [(angle45Flow_14microns_drag, angle45Drag_key), (angle45Flow_28microns_drag, angle45Drag_key), (angle45Flow_50microns_drag, angle45Drag_key)]\n",
    "dragDataframes_perpendicularFlow = [(perpendicularFlow_14microns_drag, perpendicularDrag_key), (perpendicularFlow_28microns_drag, perpendicularDrag_key), (perpendicularFlow_50microns_drag, perpendicularDrag_key)]\n",
    "#dragDataframes_perpendicularFlow_EXTRA = [(perpendicularFlow_14microns_drag_EXTRA, perpendicularDrag_key), (perpendicularFlow_28microns_drag, perpendicularDrag_key), (perpendicularFlow_50microns_drag, perpendicularDrag_key)]\n",
    "\n",
    "#group the drag dataframes together by biofilm thickness\n",
    "#each entry is a tuple containing the dataframe and the key needed for the relevant drag entry\n",
    "dragDataFrames_14microns = [(parallelFlow_14microns_drag, parallelDrag_key), (angle45Flow_14microns_drag, angle45Drag_key), (perpendicularFlow_14microns_drag, perpendicularDrag_key)]\n",
    "dragDataFrames_28microns = [(parallelFlow_28microns_drag, parallelDrag_key), (angle45Flow_28microns_drag, angle45Drag_key), (perpendicularFlow_28microns_drag, perpendicularDrag_key)]\n",
    "dragDataFrames_50microns = [(parallelFlow_50microns_drag, parallelDrag_key), (angle45Flow_50microns_drag, angle45Drag_key), (perpendicularFlow_50microns_drag, perpendicularDrag_key)]"
   ]
  },
  {
   "cell_type": "code",
   "execution_count": 10,
   "metadata": {},
   "outputs": [
    {
     "ename": "NameError",
     "evalue": "name 'co' is not defined",
     "output_type": "error",
     "traceback": [
      "\u001b[0;31m---------------------------------------------------------------------------\u001b[0m",
      "\u001b[0;31mNameError\u001b[0m                                 Traceback (most recent call last)",
      "\u001b[0;32m<ipython-input-10-0ba10a430663>\u001b[0m in \u001b[0;36m<module>\u001b[0;34m\u001b[0m\n\u001b[1;32m     13\u001b[0m \u001b[0mperpendicularFlow_14microns_alpha_EXTRA\u001b[0m \u001b[0;34m=\u001b[0m \u001b[0mcollate_all_dataframes\u001b[0m\u001b[0;34m(\u001b[0m\u001b[0;34m\"riblet_data/alpha_data_perpendicular_14microns_EXTRA/\"\u001b[0m\u001b[0;34m,\u001b[0m \u001b[0mdelta_t\u001b[0m\u001b[0;34m,\u001b[0m \u001b[0mt_max\u001b[0m\u001b[0;34m=\u001b[0m\u001b[0;36m30.\u001b[0m\u001b[0;34m)\u001b[0m\u001b[0;34m\u001b[0m\u001b[0;34m\u001b[0m\u001b[0m\n\u001b[1;32m     14\u001b[0m \u001b[0mperpendicularFlow_28microns_alpha_EXTRA\u001b[0m \u001b[0;34m=\u001b[0m \u001b[0mcollate_all_dataframes\u001b[0m\u001b[0;34m(\u001b[0m\u001b[0;34m\"riblet_data/alpha_data_perpendicular_28microns_EXTRA/\"\u001b[0m\u001b[0;34m,\u001b[0m \u001b[0mdelta_t\u001b[0m\u001b[0;34m,\u001b[0m \u001b[0mt_max\u001b[0m\u001b[0;34m=\u001b[0m\u001b[0;36m30.\u001b[0m\u001b[0;34m)\u001b[0m\u001b[0;34m\u001b[0m\u001b[0;34m\u001b[0m\u001b[0m\n\u001b[0;32m---> 15\u001b[0;31m \u001b[0mperpendicularFlow_50microns_alpha_EXTRA\u001b[0m \u001b[0;34m=\u001b[0m \u001b[0mco\u001b[0m\u001b[0;34m\u001b[0m\u001b[0;34m\u001b[0m\u001b[0m\n\u001b[0m\u001b[1;32m     16\u001b[0m \u001b[0;31m#parallelFlow_14microns_alpha\u001b[0m\u001b[0;34m\u001b[0m\u001b[0;34m\u001b[0m\u001b[0;34m\u001b[0m\u001b[0m\n",
      "\u001b[0;31mNameError\u001b[0m: name 'co' is not defined"
     ]
    }
   ],
   "source": [
    "parallelFlow_14microns_alpha = collate_all_dataframes(\"riblet_data/alpha_data_parallel_14microns/\", delta_t, t_max)\n",
    "parallelFlow_28microns_alpha = collate_all_dataframes(\"riblet_data/alpha_data_parallel_28microns/\", delta_t, t_max)\n",
    "parallelFlow_50microns_alpha = collate_all_dataframes(\"riblet_data/alpha_data_parallel_50microns/\", delta_t, t_max)\n",
    "\n",
    "angle45Flow_14microns_alpha = collate_all_dataframes(\"riblet_data/alpha_data_45deg_14microns/\", delta_t, t_max)\n",
    "angle45Flow_28microns_alpha = collate_all_dataframes(\"riblet_data/alpha_data_45deg_28microns/\", delta_t, t_max)\n",
    "angle45Flow_50microns_alpha = collate_all_dataframes(\"riblet_data/alpha_data_45deg_50microns/\", delta_t, t_max)\n",
    "\n",
    "perpendicularFlow_14microns_alpha = collate_all_dataframes(\"riblet_data/alpha_data_perpendicular_14microns/\", delta_t, t_max)\n",
    "perpendicularFlow_28microns_alpha = collate_all_dataframes(\"riblet_data/alpha_data_perpendicular_28microns/\", delta_t, t_max)\n",
    "perpendicularFlow_50microns_alpha = collate_all_dataframes(\"riblet_data/alpha_data_perpendicular_50microns/\", delta_t, t_max)\n",
    "\n",
    "perpendicularFlow_14microns_alpha_EXTRA = collate_all_dataframes(\"riblet_data/alpha_data_perpendicular_14microns_EXTRA/\", delta_t, t_max=30.)\n",
    "perpendicularFlow_28microns_alpha_EXTRA = collate_all_dataframes(\"riblet_data/alpha_data_perpendicular_28microns_EXTRA/\", delta_t, t_max=30.)\n",
    "perpendicularFlow_50microns_alpha_EXTRA = co\n",
    "#parallelFlow_14microns_alpha"
   ]
  },
  {
   "cell_type": "code",
   "execution_count": null,
   "metadata": {},
   "outputs": [],
   "source": [
    "#group the biofilm dataframes together by flow direction\n",
    "alphaDataframes_parallelFlow = [parallelFlow_14microns_alpha, parallelFlow_28microns_alpha, parallelFlow_50microns_alpha]\n",
    "alphaDataframes_angle45Flow = [angle45Flow_14microns_alpha, angle45Flow_28microns_alpha, angle45Flow_50microns_alpha]\n",
    "alphaDataframes_perpendicularFlow = [perpendicularFlow_14microns_alpha, perpendicularFlow_28microns_alpha, perpendicularFlow_50microns_alpha]\n",
    "\n",
    "#group the biofilm dataframes together by biofilm thickness\n",
    "alphaDataFrames_14microns = [parallelFlow_14microns_alpha, angle45Flow_14microns_alpha, perpendicularFlow_14microns_alpha]\n",
    "alphaDataFrames_28microns = [parallelFlow_28microns_alpha, angle45Flow_28microns_alpha, perpendicularFlow_28microns_alpha]\n",
    "alphaDataFrames_50microns = [parallelFlow_50microns_alpha, angle45Flow_50microns_alpha, perpendicularFlow_50microns_alpha]"
   ]
  },
  {
   "cell_type": "code",
   "execution_count": null,
   "metadata": {},
   "outputs": [],
   "source": [
    "def plot3x1DragcomparisonPlots(df_group1, df_group2, df_group3, label_list, title_list, filename):\n",
    "    '''\n",
    "    makes a 3x1 subplot plot. each subplot contains 3 lines, with a different variable on each subplot\n",
    "    \n",
    "    e.g., all the drags for each bf thickness, parallel flow on one subplot, then 45 deg flow on the next subplot, then perpendicular on last one.\n",
    "    \n",
    "    '''\n",
    "    \n",
    "    fig, axs = plt.subplots(1,3, dpi=220, sharey=True)\n",
    "    fig.set_size_inches(7,3)\n",
    "    \n",
    "    labelSize=12\n",
    "    titleSize=14\n",
    "    \n",
    "    \n",
    "    df_group_list = [df_group1, df_group2, df_group3]\n",
    "    letters = list(string.ascii_lowercase)[:len(df_group_list)] #letters used for labelling subplots\n",
    "    \n",
    "    for ax, df_group_and_key, title, letter in zip(axs.flat, df_group_list, title_list, letters):\n",
    "        \n",
    "        for df, df_key, label in zip(*zip(*df_group_and_key), label_list):\n",
    "            \n",
    "            ax.plot(df[\"t\"], df[df_key], label=label, lw=2.2)\n",
    "            \n",
    "            ax.set_title(title, fontsize=titleSize)\n",
    "            ax.set_ylabel(\"Drag (N$\\\\times 10^{-7}$)\", fontsize=labelSize)\n",
    "            ax.set_xlabel(\"time (s)\", fontsize=labelSize)\n",
    "            ax.text(0.825, 0.92, \"(\"+letter+\")\", transform=ax.transAxes, fontsize=14)\n",
    "            \n",
    "            ax.tick_params(axis='both', which='major', labelsize=12)\n",
    "            ax.yaxis.offsetText.set_visible(False) #removes the sci notation factor from the plots (double check it's the correct value in the axis label)\n",
    "            \n",
    "            handles, labels = ax.get_legend_handles_labels()\n",
    "            ax.legend(handles[::-1], labels[::-1], fontsize=8.5, loc=\"lower right\")\n",
    "            ax.label_outer()\n",
    "    \n",
    "    plt.subplots_adjust(wspace=0.1)\n",
    "\n",
    "    plt.savefig(\"riblet_plots/\"+filename+\".pdf\", bbox_inches=\"tight\")\n",
    "    plt.show()\n",
    "    "
   ]
  },
  {
   "cell_type": "code",
   "execution_count": null,
   "metadata": {},
   "outputs": [],
   "source": [
    "plot3x1DragcomparisonPlots(dragDataframes_parallelFlow, dragDataframes_angle45Flow, dragDataframes_perpendicularFlow, bf_thickness_labels, drag_angle_labels, \"drag_vs_angle\")"
   ]
  },
  {
   "cell_type": "code",
   "execution_count": null,
   "metadata": {},
   "outputs": [],
   "source": [
    "plot3x1DragcomparisonPlots(dragDataFrames_14microns, dragDataFrames_28microns, dragDataFrames_50microns, label_list=drag_angle_labels, title_list=bf_thickness_labels, filename=\"drag_vs_bfThickness\")"
   ]
  },
  {
   "cell_type": "code",
   "execution_count": null,
   "metadata": {},
   "outputs": [],
   "source": [
    "def plot3x1AlphaComparisonPlots(df_group1, df_group2, df_group3, label_list, title_list, normalised, filename):\n",
    "    '''\n",
    "    same sort of method as the drag plots above but for the alpha (biofilm) plots.\n",
    "    this method takes the argument \"normalised\" which is a boolean value which says whether we're doing the normalised alpha plots or not\n",
    "    '''\n",
    "    \n",
    "    fig, axs = plt.subplots(1,3, dpi=220, sharey=True)\n",
    "    fig.set_size_inches(7,3)\n",
    "    \n",
    "    labelSize=12\n",
    "    titleSize=14\n",
    "    \n",
    "    if normalised:\n",
    "        df_key = \"alpha_normalised\"\n",
    "        y_label = \"$\\\\alpha / \\\\alpha_\\max$\"\n",
    "    else:\n",
    "        df_key = \"alpha.biofilm\"\n",
    "        y_label = \"volume of $\\\\alpha$ (m$^3$ $\\\\times 10^{-11}$)\"\n",
    "    \n",
    "    df_group_list = [df_group1, df_group2, df_group3]\n",
    "    letters = list(string.ascii_lowercase)[:len(df_group_list)] #letters used for labelling subplots\n",
    "    \n",
    "    for ax, df_group_and_key, title, letter in zip(axs.flat, df_group_list, title_list, letters):\n",
    "        \n",
    "        for df, label in zip(df_group_and_key, label_list):\n",
    "            \n",
    "            ax.plot(df[\"t\"], df[df_key], label=label, lw=2.2)\n",
    "            \n",
    "            ax.set_title(title, fontsize=titleSize)\n",
    "            ax.set_ylabel(y_label, fontsize=labelSize)\n",
    "            ax.set_xlabel(\"time (s)\", fontsize=labelSize)\n",
    "            ax.text(0.03, 0.03, \"(\"+letter+\")\", transform=ax.transAxes, fontsize=14)\n",
    "            \n",
    "            ax.tick_params(axis='both', which='major', labelsize=12)\n",
    "            ax.yaxis.offsetText.set_visible(False) #removes the sci notation factor from the plots (double check it's the correct value in the axis label)\n",
    "            \n",
    "            handles, labels = ax.get_legend_handles_labels()\n",
    "            ax.legend(handles[::-1], labels[::-1], fontsize=8.5, loc=\"upper right\", framealpha=0.6)\n",
    "            ax.label_outer()\n",
    "    \n",
    "    plt.subplots_adjust(wspace=0.1)\n",
    "\n",
    "    plt.savefig(\"riblet_plots/\"+filename+\".pdf\", bbox_inches=\"tight\")\n",
    "    plt.show()"
   ]
  },
  {
   "cell_type": "code",
   "execution_count": null,
   "metadata": {},
   "outputs": [],
   "source": [
    "plot3x1AlphaComparisonPlots(alphaDataframes_parallelFlow, alphaDataframes_angle45Flow, alphaDataframes_perpendicularFlow, bf_thickness_labels, drag_angle_labels, \n",
    "                            normalised=False, filename=\"alpha_vs_angle\")"
   ]
  },
  {
   "cell_type": "code",
   "execution_count": null,
   "metadata": {},
   "outputs": [],
   "source": [
    "plot3x1AlphaComparisonPlots(alphaDataframes_parallelFlow, alphaDataframes_angle45Flow, alphaDataframes_perpendicularFlow, bf_thickness_labels, drag_angle_labels, \n",
    "                            normalised=True, filename=\"alpha_vs_angle_NORMALISED\")"
   ]
  },
  {
   "cell_type": "code",
   "execution_count": null,
   "metadata": {},
   "outputs": [],
   "source": [
    "plot3x1AlphaComparisonPlots(alphaDataFrames_14microns, alphaDataFrames_28microns, alphaDataFrames_50microns, label_list=drag_angle_labels, title_list=bf_thickness_labels, \n",
    "                            normalised=False, filename=\"alpha_vs_thickness\")"
   ]
  },
  {
   "cell_type": "code",
   "execution_count": null,
   "metadata": {},
   "outputs": [],
   "source": [
    "plot3x1AlphaComparisonPlots(alphaDataFrames_14microns, alphaDataFrames_28microns, alphaDataFrames_50microns, label_list=drag_angle_labels, title_list=bf_thickness_labels, \n",
    "                            normalised=True, filename=\"alpha_vs_thickness_NORMALISED\")"
   ]
  },
  {
   "cell_type": "code",
   "execution_count": null,
   "metadata": {},
   "outputs": [],
   "source": []
  },
  {
   "cell_type": "code",
   "execution_count": null,
   "metadata": {},
   "outputs": [],
   "source": []
  }
 ],
 "metadata": {
  "kernelspec": {
   "display_name": "Python 3",
   "language": "python",
   "name": "python3"
  },
  "language_info": {
   "codemirror_mode": {
    "name": "ipython",
    "version": 3
   },
   "file_extension": ".py",
   "mimetype": "text/x-python",
   "name": "python",
   "nbconvert_exporter": "python",
   "pygments_lexer": "ipython3",
   "version": "3.8.3"
  }
 },
 "nbformat": 4,
 "nbformat_minor": 4
}
